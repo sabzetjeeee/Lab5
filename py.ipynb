{
 "cells": [
  {
   "cell_type": "code",
   "execution_count": 35,
   "metadata": {},
   "outputs": [],
   "source": [
    "import pandas as pd\n",
    "import numpy as np\n",
    "\n",
    "pd.set_option('display.max_rows', 500)\n",
    "pd.set_option('display.max_columns', 500)\n",
    "pd.set_option('display.width', 1000)"
   ]
  },
  {
   "cell_type": "code",
   "execution_count": 36,
   "metadata": {},
   "outputs": [
    {
     "data": {
      "text/html": [
       "<div>\n",
       "<style scoped>\n",
       "    .dataframe tbody tr th:only-of-type {\n",
       "        vertical-align: middle;\n",
       "    }\n",
       "\n",
       "    .dataframe tbody tr th {\n",
       "        vertical-align: top;\n",
       "    }\n",
       "\n",
       "    .dataframe thead th {\n",
       "        text-align: right;\n",
       "    }\n",
       "</style>\n",
       "<table border=\"1\" class=\"dataframe\">\n",
       "  <thead>\n",
       "    <tr style=\"text-align: right;\">\n",
       "      <th></th>\n",
       "      <th>x0</th>\n",
       "      <th>x1</th>\n",
       "      <th>x2</th>\n",
       "      <th>x3</th>\n",
       "      <th>y1</th>\n",
       "      <th>y2</th>\n",
       "    </tr>\n",
       "  </thead>\n",
       "  <tbody>\n",
       "    <tr>\n",
       "      <th>0</th>\n",
       "      <td>1</td>\n",
       "      <td>-1</td>\n",
       "      <td>-1</td>\n",
       "      <td>-1</td>\n",
       "      <td>-0.1673</td>\n",
       "      <td>-0.3723</td>\n",
       "    </tr>\n",
       "    <tr>\n",
       "      <th>1</th>\n",
       "      <td>1</td>\n",
       "      <td>1</td>\n",
       "      <td>-1</td>\n",
       "      <td>-1</td>\n",
       "      <td>-0.1888</td>\n",
       "      <td>-0.3460</td>\n",
       "    </tr>\n",
       "    <tr>\n",
       "      <th>2</th>\n",
       "      <td>1</td>\n",
       "      <td>-1</td>\n",
       "      <td>1</td>\n",
       "      <td>-1</td>\n",
       "      <td>-0.2090</td>\n",
       "      <td>-0.2090</td>\n",
       "    </tr>\n",
       "    <tr>\n",
       "      <th>3</th>\n",
       "      <td>1</td>\n",
       "      <td>1</td>\n",
       "      <td>1</td>\n",
       "      <td>-1</td>\n",
       "      <td>-0.3870</td>\n",
       "      <td>-0.2170</td>\n",
       "    </tr>\n",
       "    <tr>\n",
       "      <th>4</th>\n",
       "      <td>1</td>\n",
       "      <td>-1</td>\n",
       "      <td>-1</td>\n",
       "      <td>1</td>\n",
       "      <td>-0.2790</td>\n",
       "      <td>-0.1550</td>\n",
       "    </tr>\n",
       "    <tr>\n",
       "      <th>5</th>\n",
       "      <td>1</td>\n",
       "      <td>1</td>\n",
       "      <td>-1</td>\n",
       "      <td>1</td>\n",
       "      <td>-0.2875</td>\n",
       "      <td>-0.1875</td>\n",
       "    </tr>\n",
       "    <tr>\n",
       "      <th>6</th>\n",
       "      <td>1</td>\n",
       "      <td>-1</td>\n",
       "      <td>1</td>\n",
       "      <td>1</td>\n",
       "      <td>-0.3650</td>\n",
       "      <td>-1.2650</td>\n",
       "    </tr>\n",
       "    <tr>\n",
       "      <th>7</th>\n",
       "      <td>1</td>\n",
       "      <td>1</td>\n",
       "      <td>1</td>\n",
       "      <td>1</td>\n",
       "      <td>0.2890</td>\n",
       "      <td>0.2330</td>\n",
       "    </tr>\n",
       "  </tbody>\n",
       "</table>\n",
       "</div>"
      ],
      "text/plain": [
       "   x0  x1  x2  x3      y1      y2\n",
       "0   1  -1  -1  -1 -0.1673 -0.3723\n",
       "1   1   1  -1  -1 -0.1888 -0.3460\n",
       "2   1  -1   1  -1 -0.2090 -0.2090\n",
       "3   1   1   1  -1 -0.3870 -0.2170\n",
       "4   1  -1  -1   1 -0.2790 -0.1550\n",
       "5   1   1  -1   1 -0.2875 -0.1875\n",
       "6   1  -1   1   1 -0.3650 -1.2650\n",
       "7   1   1   1   1  0.2890  0.2330"
      ]
     },
     "execution_count": 36,
     "metadata": {},
     "output_type": "execute_result"
    }
   ],
   "source": [
    "data = pd.read_excel(\"data.xlsx\")\n",
    "del data[\"Досліди\"]\n",
    "data"
   ]
  },
  {
   "cell_type": "code",
   "execution_count": 37,
   "metadata": {},
   "outputs": [
    {
     "name": "stdout",
     "output_type": "stream",
     "text": [
      "Коефіцієнти рівняння: \n",
      "           0         1         2         3\n",
      "b1 -0.257088  0.120613 -0.009162  0.004962\n",
      "b2 -0.257088  0.120613 -0.009162  0.004963\n"
     ]
    }
   ],
   "source": [
    "N = 8\n",
    "m = 2\n",
    "n = 3\n",
    "y = np.array([data[f\"y{i + 1}\"].values for i in range(m)]).transpose()\n",
    "x = np.array([data[f\"x{i}\"].values for i in range(n + 1)])\n",
    "\n",
    "yu = [(1/m) * sum(y[i]) for i in range(N)]\n",
    "\n",
    "b1 = [sum((x[i] * yu) / N) for i in range(len(x))]\n",
    "b1 = [round(i, 6) for i in b1]\n",
    "\n",
    "b2 = np.dot(np.dot(np.linalg.inv(np.dot(x, x.transpose())), x), yu)\n",
    "coef = [b1, b2]\n",
    "print(\"Коефіцієнти рівняння: \")\n",
    "print(pd.DataFrame(coef, index=['b1', 'b2']))"
   ]
  },
  {
   "cell_type": "code",
   "execution_count": 38,
   "metadata": {},
   "outputs": [
    {
     "name": "stdout",
     "output_type": "stream",
     "text": [
      "Розрахункова змінна стану: \n",
      "           0         1         2         3         4         5         6         7\n",
      "b1 -0.373501 -0.132275 -0.391825 -0.150599 -0.363577 -0.122351 -0.381901 -0.140675\n",
      "b2 -0.373500 -0.132275 -0.391825 -0.150600 -0.363575 -0.122350 -0.381900 -0.140675 \n",
      "\n"
     ]
    }
   ],
   "source": [
    "y1 = sum([b1[i]*x[i] for i in range(n+1)])\n",
    "y2 = np.dot(b2, x)\n",
    "allY = [y1, y2]\n",
    "print(\"Розрахункова змінна стану: \")\n",
    "print(pd.DataFrame(allY, index=['b1', 'b2']), '\\n')\n",
    "y = np.array([data[f\"y{i+1}\"].values for i in range(m)]).transpose()"
   ]
  },
  {
   "cell_type": "code",
   "execution_count": 39,
   "metadata": {},
   "outputs": [
    {
     "name": "stdout",
     "output_type": "stream",
     "text": [
      "Розрахунковий критерій Кохрена:  0.867099508468051\n"
     ]
    }
   ],
   "source": [
    "ss = []\n",
    "for i in range(N):\n",
    "    ss.append(\n",
    "        sum([(y[i][j] - yu[i])**2 for j in range(m)])\n",
    "    )\n",
    "\n",
    "Gp = max(ss)/sum(ss)\n",
    "print(\"Розрахунковий критерій Кохрена: \", Gp)"
   ]
  },
  {
   "cell_type": "code",
   "execution_count": 40,
   "metadata": {},
   "outputs": [
    {
     "name": "stdout",
     "output_type": "stream",
     "text": [
      " f1 =  1 \n",
      " f2 =  8\n"
     ]
    }
   ],
   "source": [
    "q = 0.05\n",
    "f1 = m - 1\n",
    "f2 = N\n",
    "print(\" f1 = \", f1,\"\\n\", \"f2 = \", f2)\n",
    "Gt = 0.6798"
   ]
  },
  {
   "cell_type": "code",
   "execution_count": 41,
   "metadata": {},
   "outputs": [
    {
     "name": "stdout",
     "output_type": "stream",
     "text": [
      " Дисперсія відтворюваності =  0.058384302499999985 \n",
      " Дисперсія коефіцієнтів =  0.0854285538476451\n"
     ]
    }
   ],
   "source": [
    "dispersion = np.average(ss)\n",
    "coef_dispersion = np.sqrt(dispersion/N)\n",
    "print(\" Дисперсія відтворюваності = \", dispersion,\"\\n\", \"Дисперсія коефіцієнтів = \", coef_dispersion)"
   ]
  },
  {
   "cell_type": "code",
   "execution_count": 42,
   "metadata": {},
   "outputs": [
    {
     "name": "stdout",
     "output_type": "stream",
     "text": [
      "    Розрахунковий критерій Стьюдента\n",
      "X0                          3.009392\n",
      "X1                          1.411858\n",
      "X2                          0.107248\n",
      "X3                          0.058084\n"
     ]
    }
   ],
   "source": [
    "Tp = [abs(b1[i])/coef_dispersion for i in range(n+1)]\n",
    "print(pd.DataFrame(Tp, columns=['Розрахунковий критерій Стьюдента'], index=['X0', 'X1', 'X2', 'X3']))"
   ]
  },
  {
   "cell_type": "code",
   "execution_count": 43,
   "metadata": {},
   "outputs": [
    {
     "name": "stdout",
     "output_type": "stream",
     "text": [
      "                                            X0        X1        X2        X3\n",
      "Розрахунковий критерій Стьюдента(Tp)  3.009392  1.411858  0.107248  0.058084\n",
      "Табличний критерій Стьюдента(Tt)             2         2         2         2\n",
      "Перевірвка умови Tpi > Tt                 True     False     False     False\n",
      "Довірчий інтервал |delta Bi|          0.170857  0.170857  0.170857  0.170857\n",
      "Абсолютні значення коефіцієнта(bi)    0.257088  0.120613  0.009162  0.004962\n",
      "Перевірвка умови bi > |delta Bi|          True     False     False     False\n"
     ]
    }
   ],
   "source": [
    "f = f1*f2\n",
    "Tt = 2\n",
    "bi = Tt * coef_dispersion\n",
    "\n",
    "print(pd.DataFrame([\n",
    "    Tp,\n",
    "    (1+n)*[Tt],\n",
    "    [i > Tt for i in Tp],\n",
    "    [bi]*(1+n),\n",
    "    [abs(i) for i in b1],\n",
    "    [abs(b) > bi for b in b1]],\n",
    "    columns=[\"X0\", \"X1\", \"X2\", \"X3\"],\n",
    "    index = [\"Розрахунковий критерій Стьюдента(Tp)\",\"Табличний критерій Стьюдента(Tt)\",\"Перевірвка умови Tpi > Tt\",\"Довірчий інтервал |delta Bi|\", \"Абсолютні значення коефіцієнта(bi)\",\"Перевірвка умови bi > |delta Bi|\"]))"
   ]
  },
  {
   "cell_type": "code",
   "execution_count": 44,
   "metadata": {},
   "outputs": [
    {
     "name": "stdout",
     "output_type": "stream",
     "text": [
      "Отримана модель \n",
      "y = -0.257088 + 0.120613*x1 + -0.009162*x2 + 0.004962*x3\n"
     ]
    }
   ],
   "source": [
    "f = lambda x:sum(np.array(x)*np.array(b1))\n",
    "p = [f\"{b1[i]}*x{i}\" for i in range(1, n + 1)]\n",
    "print(f\"Отримана модель \\ny = {b1[0]} + \" + \" + \".join(p))"
   ]
  },
  {
   "cell_type": "code",
   "execution_count": 45,
   "metadata": {},
   "outputs": [
    {
     "name": "stdout",
     "output_type": "stream",
     "text": [
      " Розрахункове значення критерію Фішера =  4.016675244240522 \n",
      " Табличне значення критерію Фішера =  3.5\n"
     ]
    }
   ],
   "source": [
    "tx = x.transpose()\n",
    "ty = [f([tx[i][j] for j in range(len(tx[i]))]) for i in range(len(tx))]\n",
    "adeq_dispersion = m/(N-len(b1)) * sum([(yu[i] - ty[i])**2 for i in range(N)])\n",
    "Fp = adeq_dispersion/dispersion\n",
    "Ft = 3.50\n",
    "print(\" Розрахункове значення критерію Фішера = \",  Fp,'\\n', \"Табличне значення критерію Фішера = \", Ft)\n",
    "f1 = N - 1\n",
    "f2 = N * (m - 1)\n",
    "q = 0.05"
   ]
  }
 ],
 "metadata": {
  "kernelspec": {
   "display_name": "Python 3",
   "language": "python",
   "name": "python3"
  },
  "language_info": {
   "codemirror_mode": {
    "name": "ipython",
    "version": 3
   },
   "file_extension": ".py",
   "mimetype": "text/x-python",
   "name": "python",
   "nbconvert_exporter": "python",
   "pygments_lexer": "ipython3",
   "version": "3.10.7"
  },
  "orig_nbformat": 4,
  "vscode": {
   "interpreter": {
    "hash": "49ddbee1937f021358dc367b09490e032fb9988e9b158234044e65ad7aacbaaf"
   }
  }
 },
 "nbformat": 4,
 "nbformat_minor": 2
}
